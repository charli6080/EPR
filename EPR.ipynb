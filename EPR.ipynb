{
 "cells": [
  {
   "cell_type": "code",
   "execution_count": 328,
   "metadata": {},
   "outputs": [],
   "source": [
    "import numpy as np\n",
    "import matplotlib.pyplot as plt\n",
    "import math as m\n",
    "\n",
    "def voigt(x,amp,x0,gamma,sigma,eta):\n",
    "    # Función Lorentziana\n",
    "    L =  (gamma**2 / ((x - x0)**2 + gamma**2))\n",
    "\n",
    "    # Función Gaussiana\n",
    "    G =  np.exp(-(x - x0)**2 / (2 * sigma**2)) / (sigma * np.sqrt(2 * np.pi))\n",
    "\n",
    "    # Perfil de Voigt (combinación de Lorentziana y Gaussiana)\n",
    "    V=eta * L + (1 - eta) * G\n",
    "    return amp*np.gradient(V)"
   ]
  },
  {
   "cell_type": "code",
   "execution_count": 346,
   "metadata": {},
   "outputs": [],
   "source": [
    "\n",
    "x=np.linspace(3000,3600,600)\n",
    "v=voigt(x,100,3300,10,100,0.5)\n",
    "v=v/max(v[:])\n",
    "plt.plot(x,v)\n",
    "plt.xlabel('Campo magnético $B$ ($G$)', fontsize=22)\n",
    "plt.ylabel('Intensidad (u.a.)', fontsize=22)\n",
    "plt.xticks(fontsize=22)\n",
    "plt.yticks(fontsize=22)\n",
    "plt.show()"
   ]
  },
  {
   "cell_type": "code",
   "execution_count": 283,
   "metadata": {},
   "outputs": [],
   "source": [
    "mu=9.27*10**(-21)\n",
    "h=6.626*10**(-27)\n",
    "nu=9.526*10**(9)"
   ]
  },
  {
   "cell_type": "markdown",
   "metadata": {},
   "source": [
    "### Cr+3"
   ]
  },
  {
   "cell_type": "code",
   "execution_count": 347,
   "metadata": {},
   "outputs": [],
   "source": [
    "I=[3/2,0]\n",
    "N=[[-3/2,-1/2,1/2,3/2],[0]]\n",
    "E=[-3/2,-1/2,1/2,3/2]\n",
    "amp=[2.37525,90.499]\n",
    "\n",
    "g=1.982967473\n",
    "A=[g*mu*24.36,0]"
   ]
  },
  {
   "cell_type": "code",
   "execution_count": 356,
   "metadata": {},
   "outputs": [
    {
     "data": {
      "text/plain": [
       "[<matplotlib.lines.Line2D at 0x2270e83f910>]"
      ]
     },
     "execution_count": 356,
     "metadata": {},
     "output_type": "execute_result"
    }
   ],
   "source": [
    "\n",
    "x=np.linspace(3395,3472,5000)\n",
    "espectro_cr=np.zeros(5000)\n",
    "y=[]\n",
    "\n",
    "absorciones=[]\n",
    "\n",
    "\n",
    "for i in range(len(I)):\n",
    "    for k in range(len(E)):\n",
    "        for j in range(len(N[i])):\n",
    "\n",
    "            B1=1/(2*g) * ((h*nu/mu - A[i]*N[i][j]/mu) + ((A[i]*N[i][j]/mu - h*nu/mu)**2 - 2*A[i]**2/(mu**2) * (I[i]*(I[i]+1)+N[i][j]*(-N[i][j]+2*E[k]+1)))**(1/2))\n",
    "            B2=1/(2*g) * ((h*nu/mu + A[i]*N[i][j]/mu) + ((A[i]*N[i][j]/mu + h*nu/mu)**2 - 2*A[i]**2/(mu**2) * (I[i]*(I[i]+1)+N[i][j]*(-N[i][j]+2*E[k]-1)))**(1/2))\n",
    "\n",
    "            y.append(voigt(x,amp[i],B1,0.5,0.5,0.5))\n",
    "            y.append(voigt(x,amp[i],B2,0.5,0.5,0.5))\n",
    "            absorciones.append(B1)\n",
    "            absorciones.append(B2)\n",
    "for i in range(len(y)):\n",
    "    espectro_cr+=y[i]\n",
    "\n",
    "espectro_cr=espectro_cr/max(espectro_cr)\n",
    "plt.xlabel('Campo magnético $B$ ($G$)', fontsize=22)\n",
    "plt.ylabel('Intensidad (u.a.)', fontsize=22)\n",
    "plt.xlim(3395,3472)\n",
    "plt.xticks(fontsize=22)\n",
    "plt.yticks(fontsize=22)\n",
    "plt.plot(x,espectro_cr, color='black')\n",
    "\n"
   ]
  },
  {
   "cell_type": "code",
   "execution_count": 359,
   "metadata": {},
   "outputs": [
    {
     "data": {
      "text/plain": [
       "(array([-1.25, -1.  , -0.75, -0.5 , -0.25,  0.  ,  0.25,  0.5 ,  0.75,\n",
       "         1.  ,  1.25]),\n",
       " [Text(0, -1.25, '−1.25'),\n",
       "  Text(0, -1.0, '−1.00'),\n",
       "  Text(0, -0.75, '−0.75'),\n",
       "  Text(0, -0.5, '−0.50'),\n",
       "  Text(0, -0.25, '−0.25'),\n",
       "  Text(0, 0.0, '0.00'),\n",
       "  Text(0, 0.25, '0.25'),\n",
       "  Text(0, 0.5, '0.50'),\n",
       "  Text(0, 0.75, '0.75'),\n",
       "  Text(0, 1.0, '1.00'),\n",
       "  Text(0, 1.25, '1.25')])"
      ]
     },
     "execution_count": 359,
     "metadata": {},
     "output_type": "execute_result"
    }
   ],
   "source": [
    "fig, axs = plt.subplots(1)\n",
    "\n",
    "axs.plot(x,espectro_cr,color='black')\n",
    "\n",
    "\n",
    "for i in range(len(absorciones)):\n",
    "    axs.axvline(x=absorciones[i], color='gray', linestyle='--', linewidth=1)\n",
    "\n",
    "plt.xlabel('Campo magnético $B$ ($G$)', fontsize=22)\n",
    "plt.ylabel('Intensidad (u.a.)', fontsize=22)\n",
    "plt.xlim(3395,3472)\n",
    "\n",
    "plt.xticks(fontsize=22)\n",
    "plt.yticks(fontsize=22)\n"
   ]
  },
  {
   "cell_type": "markdown",
   "metadata": {},
   "source": [
    "### Fe+3"
   ]
  },
  {
   "cell_type": "code",
   "execution_count": 389,
   "metadata": {},
   "outputs": [],
   "source": [
    "I=[1/2,0]\n",
    "N=[[-1/2,1/2],[0]]\n",
    "E=[-5/2,-3/2,-1/2,1/2,3/2,5/2]\n",
    "amp=[1-0.97881,0.97881]\n",
    "\n",
    "g=1.987802807\n",
    "A=[g*mu*20.14,0]"
   ]
  },
  {
   "cell_type": "code",
   "execution_count": 391,
   "metadata": {},
   "outputs": [
    {
     "data": {
      "text/plain": [
       "[<matplotlib.lines.Line2D at 0x226dcda0590>]"
      ]
     },
     "execution_count": 391,
     "metadata": {},
     "output_type": "execute_result"
    }
   ],
   "source": [
    "\n",
    "x=np.linspace(3409,3443,5000)\n",
    "espectro_fe=np.zeros(5000)\n",
    "y=[]\n",
    "\n",
    "absorciones=[]\n",
    "uno=[]\n",
    "dos=[]\n",
    "\n",
    "for i in range(len(I)):\n",
    "    for k in range(len(E)):\n",
    "        for j in range(len(N[i])):\n",
    "            if(k!=len(E)-1):\n",
    "                B1=1/(2*g) * ((h*nu/mu - A[i]*N[i][j]/mu) + ((A[i]*N[i][j]/mu - h*nu/mu)**2 - 2*A[i]**2/(mu**2) * (I[i]*(I[i]+1)+N[i][j]*(-N[i][j]+2*E[k]+1)))**(1/2))\n",
    "                uno.append(B1)\n",
    "                absorciones.append(B1)\n",
    "                y.append(voigt(x,amp[i],B1,0.5,0.5,0.5))\n",
    "            if(k!=0):    \n",
    "                B2=1/(2*g) * ((h*nu/mu + A[i]*N[i][j]/mu) + ((A[i]*N[i][j]/mu + h*nu/mu)**2 - 2*A[i]**2/(mu**2) * (I[i]*(I[i]+1)+N[i][j]*(-N[i][j]+2*E[k]-1)))**(1/2))\n",
    "                absorciones.append(B2)\n",
    "                y.append(voigt(x,amp[i],B2,0.5,0.5,0.5))\n",
    "                dos.append(B2)\n",
    "            \n",
    "            \n",
    "            \n",
    "            \n",
    "for i in range(len(y)):\n",
    "    espectro_fe+=y[i]\n",
    "espectro_fe=espectro_fe/max(espectro_fe)\n",
    "plt.xlabel('Campo magnético $B$ ($G$)', fontsize=22)\n",
    "plt.ylabel('Intensidad (u.a.)', fontsize=22)\n",
    "plt.xlim(3409,3443)\n",
    "plt.xticks(fontsize=22)\n",
    "plt.yticks(fontsize=22)\n",
    "plt.plot(x,espectro_fe)"
   ]
  },
  {
   "cell_type": "code",
   "execution_count": 363,
   "metadata": {},
   "outputs": [
    {
     "data": {
      "text/plain": [
       "(array([-1.25, -1.  , -0.75, -0.5 , -0.25,  0.  ,  0.25,  0.5 ,  0.75,\n",
       "         1.  ,  1.25]),\n",
       " [Text(0, -1.25, '−1.25'),\n",
       "  Text(0, -1.0, '−1.00'),\n",
       "  Text(0, -0.75, '−0.75'),\n",
       "  Text(0, -0.5, '−0.50'),\n",
       "  Text(0, -0.25, '−0.25'),\n",
       "  Text(0, 0.0, '0.00'),\n",
       "  Text(0, 0.25, '0.25'),\n",
       "  Text(0, 0.5, '0.50'),\n",
       "  Text(0, 0.75, '0.75'),\n",
       "  Text(0, 1.0, '1.00'),\n",
       "  Text(0, 1.25, '1.25')])"
      ]
     },
     "execution_count": 363,
     "metadata": {},
     "output_type": "execute_result"
    }
   ],
   "source": [
    "fig, axs = plt.subplots(1)\n",
    "\n",
    "axs.plot(x,espectro_fe,color='black')\n",
    "\n",
    "for i in range(len(absorciones)):\n",
    "    axs.axvline(x=absorciones[i], color='gray', linestyle='--', linewidth=1)\n",
    "\n",
    "plt.xlabel('Campo magnético $B$ ($G$)', fontsize=22)\n",
    "plt.ylabel('Intensidad (u.a.)', fontsize=22)\n",
    "plt.xlim(3409,3443)\n",
    "plt.xticks(fontsize=22)\n",
    "plt.yticks(fontsize=22)"
   ]
  },
  {
   "cell_type": "markdown",
   "metadata": {},
   "source": [
    "### Mn+2"
   ]
  },
  {
   "cell_type": "code",
   "execution_count": 393,
   "metadata": {},
   "outputs": [],
   "source": [
    "I=[5/2]\n",
    "N=[-5/2,-3/2,-1/2,1/2,3/2,5/2]\n",
    "E=[-5/2,-3/2,-1/2,1/2,3/2,5/2]\n",
    "amp=[1]\n",
    "#amp=amp*100\n",
    "g=1.987802807\n",
    "A=[g*mu*114.6]"
   ]
  },
  {
   "cell_type": "code",
   "execution_count": 394,
   "metadata": {},
   "outputs": [
    {
     "data": {
      "text/plain": [
       "[<matplotlib.lines.Line2D at 0x226dcbd4a90>]"
      ]
     },
     "execution_count": 394,
     "metadata": {},
     "output_type": "execute_result"
    }
   ],
   "source": [
    "\n",
    "x=np.linspace(3050,3750,50000)\n",
    "espectro_mn=np.zeros(50000)\n",
    "y=[]\n",
    "\n",
    "absorciones=[]\n",
    "\n",
    "\n",
    "for i in range(len(I)):\n",
    "    for k in range(len(E)):\n",
    "        for j in range(len(N)):\n",
    "\n",
    "            if (k!=len(E)-1):\n",
    "                B1=1/(2*g) * ((h*nu/mu - A[i]*N[j]/mu) + ((A[i]*N[j]/mu - h*nu/mu)**2 - 2*A[i]**2/(mu**2) * (I[i]*(I[i]+1)+N[j]*(-N[j]+2*E[k]+1)))**(1/2))\n",
    "                y.append(voigt(x,amp[i],B1,0.5,0.5,0.5))\n",
    "                absorciones.append(B1)\n",
    "            if (k!=0):\n",
    "                B2=1/(2*g) * ((h*nu/mu + A[i]*N[j]/mu) + ((A[i]*N[j]/mu + h*nu/mu)**2 - 2*A[i]**2/(mu**2) * (I[i]*(I[i]+1)+N[j]*(-N[j]+2*E[k]-1)))**(1/2))\n",
    "                y.append(voigt(x,amp[i],B2,0.5,0.5,0.5))\n",
    "                absorciones.append(B2)\n",
    "            \n",
    "            \n",
    "            \n",
    "for i in range(len(y)):\n",
    "    espectro_mn+=y[i]\n",
    "\n",
    "espectro_mn=espectro_mn/max(espectro_mn)\n",
    "\n",
    "plt.xlabel('Campo magnético $B$ ($G$)', fontsize=22)\n",
    "plt.ylabel('Intensidad (u.a.)', fontsize=22)\n",
    "plt.xlim(3050,3750)\n",
    "plt.xticks(fontsize=22)\n",
    "plt.yticks(fontsize=22)\n",
    "plt.plot(x,espectro_mn)"
   ]
  },
  {
   "cell_type": "code",
   "execution_count": 395,
   "metadata": {},
   "outputs": [
    {
     "data": {
      "text/plain": [
       "(array([-1.25, -1.  , -0.75, -0.5 , -0.25,  0.  ,  0.25,  0.5 ,  0.75,\n",
       "         1.  ,  1.25]),\n",
       " [Text(0, -1.25, '−1.25'),\n",
       "  Text(0, -1.0, '−1.00'),\n",
       "  Text(0, -0.75, '−0.75'),\n",
       "  Text(0, -0.5, '−0.50'),\n",
       "  Text(0, -0.25, '−0.25'),\n",
       "  Text(0, 0.0, '0.00'),\n",
       "  Text(0, 0.25, '0.25'),\n",
       "  Text(0, 0.5, '0.50'),\n",
       "  Text(0, 0.75, '0.75'),\n",
       "  Text(0, 1.0, '1.00'),\n",
       "  Text(0, 1.25, '1.25')])"
      ]
     },
     "execution_count": 395,
     "metadata": {},
     "output_type": "execute_result"
    }
   ],
   "source": [
    "fig, axs = plt.subplots(1)\n",
    "\n",
    "axs.plot(x,espectro_mn, color='black')\n",
    "\n",
    "for i in range(len(absorciones)):\n",
    "    axs.axvline(x=absorciones[i], color='gray', linestyle='--', linewidth=1)\n",
    "\n",
    "plt.xlabel('Campo magnético $B$ ($G$)', fontsize=22)\n",
    "plt.ylabel('Intensidad (u.a.)', fontsize=22)\n",
    "plt.xlim(3050,3750)\n",
    "plt.xticks(fontsize=22)\n",
    "plt.yticks(fontsize=22)"
   ]
  },
  {
   "cell_type": "markdown",
   "metadata": {},
   "source": [
    "### Co+3"
   ]
  },
  {
   "cell_type": "code",
   "execution_count": 396,
   "metadata": {},
   "outputs": [],
   "source": [
    "I=[7/2]\n",
    "N=[-7/2,-5/2,-3/2,-1/2,1/2,3/2,5/2,7/2]\n",
    "E=[-4,-3,-2,-1,0,1,2,3,4]\n",
    "amp=[1]\n",
    "\n",
    "g=1.236545592\n",
    "A=[g*mu*172.9]"
   ]
  },
  {
   "cell_type": "code",
   "execution_count": 397,
   "metadata": {},
   "outputs": [
    {
     "data": {
      "text/plain": [
       "[<matplotlib.lines.Line2D at 0x227041626d0>]"
      ]
     },
     "execution_count": 397,
     "metadata": {},
     "output_type": "execute_result"
    }
   ],
   "source": [
    "\n",
    "x=np.linspace(4700,6300,50000)\n",
    "espectro_co=np.zeros(50000)\n",
    "y=[]\n",
    "\n",
    "absorciones=[]\n",
    "\n",
    "\n",
    "for i in range(len(I)):\n",
    "    for k in range(len(E)):\n",
    "        for j in range(len(N)):\n",
    "            if (k!=len(E)-1):\n",
    "                B1=1/(2*g) * ((h*nu/mu - A[i]*N[j]/mu) + ((A[i]*N[j]/mu - h*nu/mu)**2 - 2*A[i]**2/(mu**2) * (I[i]*(I[i]+1)+N[j]*(-N[j]+2*E[k]+1)))**(1/2))\n",
    "                y.append(voigt(x,amp[i],B1,0.5,0.5,0.5))\n",
    "                absorciones.append(B1)\n",
    "            if (k!=0):\n",
    "                B2=1/(2*g) * ((h*nu/mu + A[i]*N[j]/mu) + ((A[i]*N[j]/mu + h*nu/mu)**2 - 2*A[i]**2/(mu**2) * (I[i]*(I[i]+1)+N[j]*(-N[j]+2*E[k]-1)))**(1/2))\n",
    "                y.append(voigt(x,amp[i],B2,0.5,0.5,0.5))\n",
    "                absorciones.append(B2)\n",
    "            \n",
    "            \n",
    "            \n",
    "for i in range(len(y)):\n",
    "    espectro_co+=y[i]\n",
    "\n",
    "espectro_co=espectro_co/max(espectro_co)\n",
    "\n",
    "plt.xlabel('Campo magnético $B$ ($G$)', fontsize=22)\n",
    "plt.ylabel('Intensidad (u.a.)', fontsize=22)\n",
    "plt.xlim(4700,6300)\n",
    "plt.xticks(fontsize=22)\n",
    "plt.yticks(fontsize=22)\n",
    "plt.plot(x,espectro_co)"
   ]
  },
  {
   "cell_type": "code",
   "execution_count": 398,
   "metadata": {},
   "outputs": [
    {
     "data": {
      "text/plain": [
       "(array([-1.25, -1.  , -0.75, -0.5 , -0.25,  0.  ,  0.25,  0.5 ,  0.75,\n",
       "         1.  ,  1.25]),\n",
       " [Text(0, -1.25, '−1.25'),\n",
       "  Text(0, -1.0, '−1.00'),\n",
       "  Text(0, -0.75, '−0.75'),\n",
       "  Text(0, -0.5, '−0.50'),\n",
       "  Text(0, -0.25, '−0.25'),\n",
       "  Text(0, 0.0, '0.00'),\n",
       "  Text(0, 0.25, '0.25'),\n",
       "  Text(0, 0.5, '0.50'),\n",
       "  Text(0, 0.75, '0.75'),\n",
       "  Text(0, 1.0, '1.00'),\n",
       "  Text(0, 1.25, '1.25')])"
      ]
     },
     "execution_count": 398,
     "metadata": {},
     "output_type": "execute_result"
    }
   ],
   "source": [
    "fig, axs = plt.subplots(1)\n",
    "\n",
    "axs.plot(x,espectro_co, color='black')\n",
    "\n",
    "\n",
    "for i in range(len(absorciones)):\n",
    "    axs.axvline(x=absorciones[i], color='gray', linestyle='--', linewidth=1)\n",
    "\n",
    "plt.xlabel('Campo magnético $B$ ($G$)', fontsize=22)\n",
    "plt.ylabel('Intensidad (u.a.)', fontsize=22)\n",
    "plt.xlim(4760,6200)\n",
    "plt.xticks(fontsize=22)\n",
    "plt.yticks(fontsize=22)"
   ]
  },
  {
   "cell_type": "markdown",
   "metadata": {},
   "source": [
    "# V+3"
   ]
  },
  {
   "cell_type": "code",
   "execution_count": 255,
   "metadata": {},
   "outputs": [],
   "source": [
    "I=[7/2]\n",
    "N=[-7/2,-5/2,-3/2,-1/2,1/2,3/2,5/2,7/2]\n",
    "E=[-2,-1,0,1,2]\n",
    "amp=[1]\n",
    "\n",
    "g=1.987802807\n",
    "A=[g*mu*92.11]"
   ]
  },
  {
   "cell_type": "code",
   "execution_count": 256,
   "metadata": {},
   "outputs": [
    {
     "data": {
      "text/plain": [
       "[<matplotlib.lines.Line2D at 0x22694143ed0>]"
      ]
     },
     "execution_count": 256,
     "metadata": {},
     "output_type": "execute_result"
    }
   ],
   "source": [
    "\n",
    "x=np.linspace(2530,4200,500000)\n",
    "espectro_v=np.zeros(500000)\n",
    "y=[]\n",
    "\n",
    "absorciones=[]\n",
    "\n",
    "\n",
    "for i in range(len(I)):\n",
    "    for k in range(len(E)):\n",
    "        for j in range(len(N)):\n",
    "\n",
    "            B1=1/(2*g) * ((h*nu/mu - A[i]*N[j]/mu) + ((A[i]*N[j]/mu - h*nu/mu)**2 - 2*A[i]**2/(mu**2) * (I[i]*(I[i]+1)+N[j]*(-N[j]+2*E[k]+1)))**(1/2))\n",
    "            B2=1/(2*g) * ((h*nu/mu + A[i]*N[j]/mu) + ((A[i]*N[j]/mu + h*nu/mu)**2 - 2*A[i]**2/(mu**2) * (I[i]*(I[i]+1)+N[j]*(-N[j]+2*E[k]-1)))**(1/2))\n",
    "\n",
    "            y.append(voigt(x,amp[i],B1,0.5,0.5,0.5))\n",
    "            y.append(voigt(x,amp[i],B2,0.5,0.5,0.5))\n",
    "            absorciones.append(B1)\n",
    "            absorciones.append(B2)\n",
    "for i in range(len(y)):\n",
    "    espectro_v+=y[i]\n",
    "\n",
    "espectro_v=espectro_v/max(espectro_v[:])\n",
    "plt.xlabel('Campo magnético $B$ ($G$)', fontsize=14)\n",
    "plt.ylabel('Intensidad (u.a.)', fontsize=14)\n",
    "plt.xlim()\n",
    "\n",
    "plt.xticks(fontsize=14)\n",
    "plt.yticks(fontsize=14)\n",
    "plt.plot(x,espectro_v)"
   ]
  },
  {
   "cell_type": "code",
   "execution_count": 257,
   "metadata": {},
   "outputs": [
    {
     "data": {
      "text/plain": [
       "(array([-1.25, -1.  , -0.75, -0.5 , -0.25,  0.  ,  0.25,  0.5 ,  0.75,\n",
       "         1.  ,  1.25]),\n",
       " [Text(0, -1.25, '−1.25'),\n",
       "  Text(0, -1.0, '−1.00'),\n",
       "  Text(0, -0.75, '−0.75'),\n",
       "  Text(0, -0.5, '−0.50'),\n",
       "  Text(0, -0.25, '−0.25'),\n",
       "  Text(0, 0.0, '0.00'),\n",
       "  Text(0, 0.25, '0.25'),\n",
       "  Text(0, 0.5, '0.50'),\n",
       "  Text(0, 0.75, '0.75'),\n",
       "  Text(0, 1.0, '1.00'),\n",
       "  Text(0, 1.25, '1.25')])"
      ]
     },
     "execution_count": 257,
     "metadata": {},
     "output_type": "execute_result"
    }
   ],
   "source": [
    "fig, axs = plt.subplots(1)\n",
    "\n",
    "axs.plot(x,espectro_v)\n",
    "\n",
    "\n",
    "for i in range(len(absorciones)):\n",
    "    axs.axvline(x=absorciones[i], color='red', linestyle='--', linewidth=1)\n",
    "plt.xlabel('Campo magnético $B$ ($G$)', fontsize=14)\n",
    "plt.ylabel('Intensidad (u.a.)', fontsize=14)\n",
    "plt.xlim(2530,4200)\n",
    "plt.xticks(fontsize=14)\n",
    "plt.yticks(fontsize=14)"
   ]
  }
 ],
 "metadata": {
  "kernelspec": {
   "display_name": "base",
   "language": "python",
   "name": "python3"
  },
  "language_info": {
   "codemirror_mode": {
    "name": "ipython",
    "version": 3
   },
   "file_extension": ".py",
   "mimetype": "text/x-python",
   "name": "python",
   "nbconvert_exporter": "python",
   "pygments_lexer": "ipython3",
   "version": "3.11.5"
  }
 },
 "nbformat": 4,
 "nbformat_minor": 2
}
